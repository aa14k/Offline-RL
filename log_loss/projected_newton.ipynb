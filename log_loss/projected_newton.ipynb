{
 "cells": [
  {
   "cell_type": "code",
   "execution_count": 5,
   "id": "bf98aa4d-553e-4766-a9fd-a9ec573ebb40",
   "metadata": {
    "execution": {
     "iopub.execute_input": "2023-08-29T01:52:22.798216Z",
     "iopub.status.busy": "2023-08-29T01:52:22.797860Z",
     "iopub.status.idle": "2023-08-29T01:52:23.085071Z",
     "shell.execute_reply": "2023-08-29T01:52:23.084184Z",
     "shell.execute_reply.started": "2023-08-29T01:52:22.798188Z"
    },
    "tags": []
   },
   "outputs": [],
   "source": [
    "import numpy as np\n",
    "from senv import MountainCar\n",
    "import copy\n",
    "import scipy as sc\n",
    "from tqdm.notebook import tqdm\n",
    "from sfqi import fqi\n",
    "from joblib import Parallel, delayed\n",
    "from sexp import eval "
   ]
  },
  {
   "cell_type": "code",
   "execution_count": 6,
   "id": "2edde996-e16f-40d6-a205-66bc0c12dd07",
   "metadata": {
    "execution": {
     "iopub.execute_input": "2023-08-29T01:56:33.088438Z",
     "iopub.status.busy": "2023-08-29T01:56:33.087813Z",
     "iopub.status.idle": "2023-08-29T01:56:33.098893Z",
     "shell.execute_reply": "2023-08-29T01:56:33.098074Z",
     "shell.execute_reply.started": "2023-08-29T01:56:33.088400Z"
    },
    "tags": []
   },
   "outputs": [],
   "source": [
    "def getdata(env, tt, st=1):\n",
    "    H, w, sd = env.H, env.width, env.getstate().shape[1]\n",
    "    succ=np.zeros((H,st,sd+2))# stores state,action,cost\n",
    "    fail=np.zeros((H,ft:=tt-st,sd+2))\n",
    "    fc,sc=ft,st\n",
    "    while sc or fc:\n",
    "        sac=np.zeros((H,w,sd+2))\n",
    "        sac[:,:,-2] = np.random.randint(3,size=(H,w))\n",
    "        s = env.reset()\n",
    "        for h in range(H):\n",
    "            sac[h,:,:-2]=s\n",
    "            c, s = env.step(sac[h,:,-2])\n",
    "            sac[h,:,-1]=c\n",
    "        fidx=np.flatnonzero(c)[:fc]\n",
    "        fail[:,ft-fc:ft-(fc:=fc-fidx.size)]=sac[:,fidx]\n",
    "        sidx=np.flatnonzero(1-c)[:sc]\n",
    "        succ[:,st-sc:st-(sc:=sc-sidx.size)]=sac[:,sidx]\n",
    "    return np.append(succ,fail,axis=1)"
   ]
  },
  {
   "cell_type": "code",
   "execution_count": 7,
   "id": "c096f12f-e2d6-4f90-9a59-7083e5514154",
   "metadata": {},
   "outputs": [],
   "source": [
    "def eval(env, theta):\n",
    "    w=env.width ; s=env.reset(1)\n",
    "    cost=0\n",
    "    for h in range(env.H):\n",
    "        c, s = env.step(np.argmin(theta[h]@s.T))\n",
    "        cost+=c\n",
    "    env.reset(w)\n",
    "    return cost.squeeze()"
   ]
  },
  {
   "cell_type": "code",
   "execution_count": 8,
   "id": "81af0e70",
   "metadata": {},
   "outputs": [],
   "source": [
    "class FQI(object):\n",
    "    def __init__(self, data, d, H):\n",
    "        self.data = data\n",
    "        self.d = d\n",
    "        self.H = H\n",
    "\n",
    "        self.theta_ls = np.zeros((self.H+1,3,self.d))\n",
    "        self.theta_log = np.zeros((self.H+1,3,self.d))\n",
    "\n",
    "    def sigmoid(self, x):\n",
    "        x[x < -36] = -36\n",
    "        x[x > 36] = 36\n",
    "        return 1 / (1 + np.exp(-x))\n",
    "    \n",
    "    def get_targets(self, theta, h):\n",
    "        data = self.data.copy()\n",
    "        tar = {}\n",
    "\n",
    "        a, c = data[h,:,-2], data[h,:,-1]\n",
    "\n",
    "        a0 = np.where(a==0)\n",
    "        a1 = np.where(a==1)\n",
    "        a2 = np.where(a==2)\n",
    "\n",
    "        if h != self.H - 1:\n",
    "\n",
    "            phi_ = data[h+1,:,:-2]\n",
    "\n",
    "            inner0 = self.sigmoid(np.matmul(phi_, theta[h+1,0]))\n",
    "            inner1 = self.sigmoid(np.matmul(phi_, theta[h+1,1]))\n",
    "            inner2 = self.sigmoid(np.matmul(phi_, theta[h+1,2]))\n",
    "\n",
    "            v = np.minimum(np.minimum(inner0, inner1), inner2)\n",
    "            \n",
    "            tar[0] = c[a0] + v[a0]\n",
    "            tar[1] = c[a1] + v[a1]\n",
    "            tar[2] = c[a2] + v[a2]\n",
    "\n",
    "        else:\n",
    "            tar[0] = c[a0]\n",
    "            tar[1] = c[a1] \n",
    "            tar[2] = c[a2] \n",
    "        \n",
    "        return tar\n",
    "\n",
    "\n",
    "    def ls_loss(self, theta, X, Y):\n",
    "        return np.sum((self.sigmoid(X @ theta) - Y) ** 2)\n",
    "\n",
    "    def ls_grad(self, theta, X, Y):\n",
    "        p = self.sigmoid(X @ theta)\n",
    "        der = p * (1 - p)\n",
    "        scalar = 2 * (p - Y) * der\n",
    "        return scalar.T @ X\n",
    "    \n",
    "    def log_loss(self, theta, X, Y):\n",
    "        p = self.sigmoid(X @ theta)\n",
    "        return -1.0 * np.sum(Y * np.log(p) + (1 - Y) * np.log(1 - p))\n",
    "\n",
    "    def log_grad(self, theta, X, Y):\n",
    "        p = self.sigmoid(X @ theta)\n",
    "        scalar = (p - Y)\n",
    "        return scalar.T @ X\n",
    "    \n",
    "    def ls_solve(self, features, tar, theta0):\n",
    "        self.sol = sc.optimize.minimize(\n",
    "            self.ls_loss,\n",
    "            x0 = np.zeros(self.d),\n",
    "            args = (features, tar),\n",
    "            jac = self.ls_grad,\n",
    "            method = 'bfgs',\n",
    "            options={'gtol':1e-5}\n",
    "        )\n",
    "        return self.sol.x\n",
    "    \n",
    "    def log_solve(self, features, tar, theta0):\n",
    "        self.sol = sc.optimize.minimize(\n",
    "            self.log_loss,\n",
    "            x0 = np.zeros(self.d),\n",
    "            args = (features, tar),\n",
    "            jac = self.log_grad,\n",
    "            method = 'bfgs',\n",
    "            options={'gtol':1e-5}\n",
    "        )\n",
    "        return self.sol.x\n",
    "\n",
    "    def run_log(self):\n",
    "        for h in tqdm(range(self.H-1,-1,-1)):\n",
    "            self.tar = self.get_targets(self.theta_log, h)\n",
    "            for a in range(3):\n",
    "                idx = np.where(self.data[h,:,-2] == a)\n",
    "                features = np.squeeze(self.data[h,idx,:-2])\n",
    "                self.theta_log[h,a] = self.log_solve(features, self.tar[a], self.theta_log[h+1,a])\n",
    "        return self.theta_log\n",
    "    \n",
    "    def run_ls(self):\n",
    "        for h in tqdm(range(self.H-1,-1,-1)):\n",
    "            tar = self.get_targets(self.theta_ls, h)\n",
    "            for a in range(3):\n",
    "                idx = np.where(self.data[h,:,-2] == a)\n",
    "                features = np.squeeze(self.data[h,idx,:-2])\n",
    "                self.theta_ls[h,a] = self.ls_solve(features, tar[a], self.theta_ls[h+1,a])\n",
    "        return self.theta_ls\n",
    "\n",
    "\n",
    "\n",
    "\n"
   ]
  },
  {
   "cell_type": "code",
   "execution_count": 9,
   "id": "bd46e897",
   "metadata": {},
   "outputs": [],
   "source": [
    "def run_exp(H, trials):    \n",
    "    env = MountainCar(H, 2, trials)\n",
    "    data = getdata(env, trials)\n",
    "    agent = FQI(data, 9, H)\n",
    "    datasiz = [trials]\n",
    "    for j in range(len(datasiz)):\n",
    "        sac=list(zip(data[:,:datasiz[j],:-2],\n",
    "                        data[:,:datasiz[j],-2],\n",
    "                        data[:,:datasiz[j],-1]))\n",
    "        thetalog=fqi(sac,env.A,'log')\n",
    "        thetasq=fqi(sac,env.A,'sq')\n",
    "    theta_sq = agent.run_ls()\n",
    "    theta_log = agent.run_log()\n",
    "\n",
    "    return [theta_log[:-1], thetalog, theta_sq[:-1], thetasq]"
   ]
  },
  {
   "cell_type": "code",
   "execution_count": 10,
   "id": "7f900278",
   "metadata": {},
   "outputs": [
    {
     "data": {
      "application/vnd.jupyter.widget-view+json": {
       "model_id": "f240bb9e9b154dd4b1323917404faf94",
       "version_major": 2,
       "version_minor": 0
      },
      "text/plain": [
       "  0%|          | 0/20 [00:00<?, ?it/s]"
      ]
     },
     "metadata": {},
     "output_type": "display_data"
    }
   ],
   "source": [
    "num_runs = 20\n",
    "H = 800\n",
    "trajectories = 15000\n",
    "thetas = Parallel(n_jobs=min(num_runs,45))(delayed(run_exp)(H, trajectories) for j in tqdm(range(num_runs)))"
   ]
  },
  {
   "cell_type": "code",
   "execution_count": 11,
   "id": "a30bfb42",
   "metadata": {},
   "outputs": [],
   "source": [
    "a_log = []\n",
    "s_log = []\n",
    "a_sq = []\n",
    "s_sq = []\n",
    "\n",
    "env = MountainCar(H, 2)\n",
    "env.reset(0)\n",
    "\n",
    "for i in range(num_runs):\n",
    "    a_log.append(eval(env,thetas[i][0]))\n",
    "    s_log.append(eval(env,thetas[i][1]))\n",
    "    a_sq.append(eval(env,thetas[i][2]))\n",
    "    s_sq.append(eval(env,thetas[i][3]))\n"
   ]
  },
  {
   "cell_type": "code",
   "execution_count": 12,
   "id": "d30dab07",
   "metadata": {},
   "outputs": [
    {
     "data": {
      "text/plain": [
       "7.0"
      ]
     },
     "execution_count": 12,
     "metadata": {},
     "output_type": "execute_result"
    }
   ],
   "source": [
    "sum(a_log)"
   ]
  },
  {
   "cell_type": "code",
   "execution_count": 13,
   "id": "1930d4bd",
   "metadata": {},
   "outputs": [
    {
     "data": {
      "text/plain": [
       "8.0"
      ]
     },
     "execution_count": 13,
     "metadata": {},
     "output_type": "execute_result"
    }
   ],
   "source": [
    "sum(s_log)"
   ]
  },
  {
   "cell_type": "code",
   "execution_count": 14,
   "id": "18557c5e",
   "metadata": {},
   "outputs": [
    {
     "data": {
      "text/plain": [
       "17.0"
      ]
     },
     "execution_count": 14,
     "metadata": {},
     "output_type": "execute_result"
    }
   ],
   "source": [
    "sum(a_sq)"
   ]
  },
  {
   "cell_type": "code",
   "execution_count": 15,
   "id": "05a3782f",
   "metadata": {},
   "outputs": [
    {
     "data": {
      "text/plain": [
       "10.0"
      ]
     },
     "execution_count": 15,
     "metadata": {},
     "output_type": "execute_result"
    },
    {
     "name": "stdout",
     "output_type": "stream",
     "text": [
      "  0%|          | 0/800 [00:00<?, ?it/s]\n",
      "  0%|          | 0/800 [00:00<?, ?it/s]\n",
      "  0%|          | 0/800 [00:00<?, ?it/s]\n",
      "  0%|          | 0/800 [00:00<?, ?it/s]\n",
      "  0%|          | 0/800 [00:00<?, ?it/s]\n",
      "  0%|          | 0/800 [00:00<?, ?it/s]\n",
      "  0%|          | 0/800 [00:00<?, ?it/s]\n",
      "  0%|          | 0/800 [00:00<?, ?it/s]\n",
      "  0%|          | 0/800 [00:00<?, ?it/s]\n",
      "  0%|          | 0/800 [00:00<?, ?it/s]\n",
      "  0%|          | 0/800 [00:00<?, ?it/s]\n",
      "  0%|          | 0/800 [00:00<?, ?it/s]\n",
      "  0%|          | 0/800 [00:00<?, ?it/s]\n",
      "  0%|          | 0/800 [00:00<?, ?it/s]\n",
      "  0%|          | 0/800 [00:00<?, ?it/s]\n",
      "  0%|          | 0/800 [00:00<?, ?it/s]\n",
      "  0%|          | 0/800 [00:00<?, ?it/s]\n",
      "  0%|          | 0/800 [00:00<?, ?it/s]\n",
      "  0%|          | 0/800 [00:00<?, ?it/s]\n",
      "  0%|          | 0/800 [00:00<?, ?it/s]\n",
      "  0%|          | 0/800 [00:00<?, ?it/s]\n",
      "  0%|          | 0/800 [00:00<?, ?it/s]\n",
      "  0%|          | 0/800 [00:00<?, ?it/s]\n",
      "  0%|          | 0/800 [00:00<?, ?it/s]\n",
      "  0%|          | 0/800 [00:00<?, ?it/s]\n",
      "  0%|          | 0/800 [00:00<?, ?it/s]\n",
      "  0%|          | 0/800 [00:00<?, ?it/s]\n",
      "  0%|          | 0/800 [00:00<?, ?it/s]\n",
      "  0%|          | 0/800 [00:00<?, ?it/s]\n",
      "  0%|          | 0/800 [00:00<?, ?it/s]\n",
      "  0%|          | 0/800 [00:00<?, ?it/s]\n",
      "  0%|          | 0/800 [00:00<?, ?it/s]\n",
      "  0%|          | 0/800 [00:00<?, ?it/s]\n",
      "  0%|          | 0/800 [00:00<?, ?it/s]\n",
      "  0%|          | 0/800 [00:00<?, ?it/s]\n",
      "  0%|          | 0/800 [00:00<?, ?it/s]\n",
      "  0%|          | 0/800 [00:00<?, ?it/s]\n",
      "  0%|          | 0/800 [00:00<?, ?it/s]\n",
      "  0%|          | 0/800 [00:00<?, ?it/s]\n",
      "  0%|          | 0/800 [00:00<?, ?it/s]\n"
     ]
    }
   ],
   "source": [
    "sum(s_sq)"
   ]
  },
  {
   "cell_type": "code",
   "execution_count": null,
   "id": "ab38b427",
   "metadata": {},
   "outputs": [],
   "source": []
  }
 ],
 "metadata": {
  "kernelspec": {
   "display_name": "Python 3 (ipykernel)",
   "language": "python",
   "name": "python3"
  },
  "language_info": {
   "codemirror_mode": {
    "name": "ipython",
    "version": 3
   },
   "file_extension": ".py",
   "mimetype": "text/x-python",
   "name": "python",
   "nbconvert_exporter": "python",
   "pygments_lexer": "ipython3",
   "version": "3.10.9"
  },
  "nflx": {
   "sharing": {
    "created_at": "2023-08-29T00:45:55.923Z",
    "is_private": true
   }
  }
 },
 "nbformat": 4,
 "nbformat_minor": 5
}
