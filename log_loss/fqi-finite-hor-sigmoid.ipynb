{
 "cells": [
  {
   "cell_type": "code",
   "execution_count": 17,
   "id": "e5d70ef0-9d77-493b-a0c9-fc9268a34732",
   "metadata": {
    "tags": []
   },
   "outputs": [],
   "source": [
    "from environments import MountainCar\n",
    "from features import LinearFeatureMap\n",
    "import numpy as np\n",
    "from tqdm.notebook import tqdm\n",
    "from joblib import Parallel, delayed\n",
    "import scipy as sc\n",
    "import timeit\n",
    "import copy\n",
    "import matplotlib.pyplot as plt\n",
    "from fitted_q import FittedQIteration\n",
    "from utils import get_data, evaluate_policy, run_experiment, move_successful_trajectories, truncate_data, run_experiment2"
   ]
  },
  {
   "cell_type": "code",
   "execution_count": 18,
   "id": "210e570a-f6e8-4804-8088-796632e4e9c6",
   "metadata": {},
   "outputs": [
    {
     "data": {
      "text/plain": [
       "'\\ntuples = []\\nfor i in tqdm(range(runs)):\\n    tup = get_data(H,num_trials)\\n    tuples.append(move_successful_trajectories(tup, H))\\n'"
      ]
     },
     "execution_count": 18,
     "metadata": {},
     "output_type": "execute_result"
    }
   ],
   "source": [
    "data = [20000, 15000, 10000, 5000, 1000]\n",
    "H = 600\n",
    "runs = 16\n",
    "c = []\n",
    "num_trials = data[-1]\n",
    "'''\n",
    "tuples = []\n",
    "for i in tqdm(range(runs)):\n",
    "    tup = get_data(H,num_trials)\n",
    "    tuples.append(move_successful_trajectories(tup, H))\n",
    "'''"
   ]
  },
  {
   "cell_type": "code",
   "execution_count": 19,
   "id": "e090fd95-4aef-46d9-95f3-0f0c370496a8",
   "metadata": {},
   "outputs": [
    {
     "data": {
      "application/vnd.jupyter.widget-view+json": {
       "model_id": "4e09782ac0ce49d8b811aae5e6d64e84",
       "version_major": 2,
       "version_minor": 0
      },
      "text/plain": [
       "  0%|          | 0/5 [00:00<?, ?it/s]"
      ]
     },
     "metadata": {},
     "output_type": "display_data"
    },
    {
     "data": {
      "application/vnd.jupyter.widget-view+json": {
       "model_id": "2a0eb9fbafda432ca306ab84cfa8a5e5",
       "version_major": 2,
       "version_minor": 0
      },
      "text/plain": [
       "  0%|          | 0/16 [00:00<?, ?it/s]"
      ]
     },
     "metadata": {},
     "output_type": "display_data"
    },
    {
     "name": "stdout",
     "output_type": "stream",
     "text": [
      "Time: 592.777346656s\n"
     ]
    },
    {
     "data": {
      "application/vnd.jupyter.widget-view+json": {
       "model_id": "020409932a2f4cd88d65272e1b01f41a",
       "version_major": 2,
       "version_minor": 0
      },
      "text/plain": [
       "  0%|          | 0/16 [00:00<?, ?it/s]"
      ]
     },
     "metadata": {},
     "output_type": "display_data"
    },
    {
     "name": "stdout",
     "output_type": "stream",
     "text": [
      "Time: 432.92583537200017s\n"
     ]
    },
    {
     "data": {
      "application/vnd.jupyter.widget-view+json": {
       "model_id": "548773bc3ced42968dd4c15644ffea57",
       "version_major": 2,
       "version_minor": 0
      },
      "text/plain": [
       "  0%|          | 0/16 [00:00<?, ?it/s]"
      ]
     },
     "metadata": {},
     "output_type": "display_data"
    },
    {
     "name": "stdout",
     "output_type": "stream",
     "text": [
      "Time: 314.4346587969999s\n"
     ]
    },
    {
     "data": {
      "application/vnd.jupyter.widget-view+json": {
       "model_id": "d353d4fa36204cbc859ca2179c1bf82e",
       "version_major": 2,
       "version_minor": 0
      },
      "text/plain": [
       "  0%|          | 0/16 [00:00<?, ?it/s]"
      ]
     },
     "metadata": {},
     "output_type": "display_data"
    },
    {
     "name": "stdout",
     "output_type": "stream",
     "text": [
      "Time: 217.54405573800022s\n"
     ]
    },
    {
     "data": {
      "application/vnd.jupyter.widget-view+json": {
       "model_id": "6ad6b05797164ba8b9e84b2b76a0d576",
       "version_major": 2,
       "version_minor": 0
      },
      "text/plain": [
       "  0%|          | 0/16 [00:00<?, ?it/s]"
      ]
     },
     "metadata": {},
     "output_type": "display_data"
    },
    {
     "name": "stdout",
     "output_type": "stream",
     "text": [
      "Time: 106.42482667800004s\n"
     ]
    }
   ],
   "source": [
    "phi = LinearFeatureMap()\n",
    "phi.init_fourier_features(2,2)\n",
    "phi.init_state_normalizers(np.array([0.6,0.07]),np.array([-1.2,-0.07]))\n",
    "for i in tqdm(range(len(data))):\n",
    "    tic = timeit.default_timer()\n",
    "    x = Parallel(n_jobs=8)(delayed(run_experiment)(H, data[i], phi, 1) for j in tqdm(range(runs)))\n",
    "    toc = timeit.default_timer()\n",
    "    print('Time: %ss' %(toc-tic))\n",
    "    c.append(x)\n",
    "        "
   ]
  },
  {
   "cell_type": "code",
   "execution_count": 21,
   "id": "e45dd516-5121-43b0-b504-c17c8a88941c",
   "metadata": {},
   "outputs": [],
   "source": [
    "costs_log = np.zeros(len(data))\n",
    "costs_sq = np.zeros(len(data))\n",
    "c_log = np.zeros((len(data),runs))\n",
    "c_sq = np.zeros((len(data),runs))\n",
    "for i in range(len(data)):\n",
    "    for j in range(len(c[i])):\n",
    "        c_log[i,j] = c[i][j][0][0]\n",
    "        c_sq[i,j] = c[i][j][1]\n",
    "        costs_log[i] += c[i][j][0][0]\n",
    "        costs_sq[i] += c[i][j][1]\n",
    "\n",
    "err_log = sc.stats.sem(c_log.T)\n",
    "err_sq = sc.stats.sem(c_sq.T)"
   ]
  },
  {
   "cell_type": "code",
   "execution_count": 22,
   "id": "b7ad5b99-dcff-4bd0-97be-dbfe077f2335",
   "metadata": {},
   "outputs": [
    {
     "data": {
      "image/png": "[encoded data removed]",
      "text/plain": [
       "<Figure size 640x480 with 1 Axes>"
      ]
     },
     "metadata": {},
     "output_type": "display_data"
    }
   ],
   "source": [
    "\n",
    "\n",
    "plt.plot(data, costs_log / runs, label = 'log')\n",
    "plt.plot(data, costs_sq / runs, label='sq')\n",
    "plt.xlabel('Number of trajectories')\n",
    "plt.ylabel('$V(\\pi_{FQI})$')\n",
    "plt.title('Performance of FQI vs Size of Dataset')\n",
    "plt.legend()\n",
    "plt.show()"
   ]
  },
  {
   "cell_type": "code",
   "execution_count": null,
   "id": "45bc461b-a9a4-4b8e-a69d-d6c3fa53e1e1",
   "metadata": {},
   "outputs": [],
   "source": [
    "with open(r'data_n_traj.txt', 'w') as fp:\n",
    "    for item in tuples:\n",
    "        # write each item on a new line\n",
    "        fp.write(\"%s\\n\" % item)\n",
    "    print('Done')\n",
    "np.save('costs_sq_n_traj.npy', c_sq)\n",
    "np.save('costs_log_n_trac.npy', c_log)"
   ]
  },
  {
   "cell_type": "code",
   "execution_count": null,
   "id": "a655625f-e7c8-4cba-afcb-d89bc060e79d",
   "metadata": {},
   "outputs": [],
   "source": [
    "costs_log"
   ]
  },
  {
   "cell_type": "code",
   "execution_count": null,
   "id": "ed703932-961e-4f31-89e0-a32f8e510110",
   "metadata": {},
   "outputs": [],
   "source": [
    "costs_sq"
   ]
  },
  {
   "cell_type": "code",
   "execution_count": null,
   "id": "d1fbccf2-2654-43a4-8a27-2c94d529bb62",
   "metadata": {},
   "outputs": [],
   "source": []
  }
 ],
 "metadata": {
  "kernelspec": {
   "display_name": "Python 3 (ipykernel)",
   "language": "python",
   "name": "python3"
  },
  "language_info": {
   "codemirror_mode": {
    "name": "ipython",
    "version": 3
   },
   "file_extension": ".py",
   "mimetype": "text/x-python",
   "name": "python",
   "nbconvert_exporter": "python",
   "pygments_lexer": "ipython3",
   "version": "3.9.1"
  },
  "nflx": {
   "sharing": {
    "created_at": "2023-08-22T21:26:40.555Z",
    "is_private": true
   }
  }
 },
 "nbformat": 4,
 "nbformat_minor": 5
}
