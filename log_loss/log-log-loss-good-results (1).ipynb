{
 "cells": [
  {
   "cell_type": "code",
   "execution_count": 1,
   "id": "5b77b2b8-d788-492d-9df3-8d21e6196705",
   "metadata": {
    "tags": []
   },
   "outputs": [],
   "source": [
    "import numpy as np\n",
    "import scipy as sc\n",
    "from classifiers import Sigmoid_Regression\n",
    "from tqdm.notebook import tqdm\n",
    "import matplotlib.pyplot as plt\n",
    "import random"
   ]
  },
  {
   "attachments": {},
   "cell_type": "markdown",
   "id": "d623c68c-c6fc-44d6-980c-cb92e02f52a7",
   "metadata": {},
   "source": [
    "# Sigmoid Models with Logarithmic Loss\n",
    "\n",
    "Consider the following protocol: for $t=1,2,...,T$, nature chooses $x_t \\in \\mathbb{R}^d$ in each round, and then reveals a noisy label $y_t \\sim \\text{Ber}(p(x_t^\\top \\theta^\\star))$, where $\\theta^\\star \\in \\mathbb{R}^d$ is the unknown parameter and $p(z) = 1/(1 + e^{-x})$ is the link function. Our goal is to learn to make accurate predictions given a linear model class and any $x \\in \\mathbb{R}^d$, i.e., to predict $y^\\star(x) = p(x^\\top \\theta^\\star)$. One way of learning $\\theta^\\star$ given i.i.d samples of $\\{x_t,y_t\\}_{t=1}^T$ is to perform nonlinear least squares regression.\n",
    "\n",
    "Nonlinear least sqaures regression considers the following estimator and prediction: given $\\{x_t,y_t\\}_{t=1}^T$ compute:\n",
    "\n",
    "$$\n",
    "\\hat\\theta_T := \\arg\\min_{\\theta \\in \\mathbb{R}^d} \\sum_{t=1}^T \\left( p(x_t^\\top \\theta) - y_t\\right)^2 \n",
    "$$\n",
    "\n",
    "and set $\\hat y_T(x) := p(x^\\top \\hat\\theta_T)$. The estimator and the prediciton can also be solved using a number of popular nonlinear least sqaures solver, such as the Gauss Newton Algorithm. In the below code, we scipy's built in nonlinear least sqaures solver $\\href{https://docs.scipy.org/doc/scipy/reference/generated/scipy.optimize.least_squares.html}{\\texttt{scipy.optimize.least_squares}}$.\n",
    "\n",
    "Another way of learning $\\theta^\\star$  given i.i.d samples of $\\{x_t,y_t\\}_{t=1}^T$ is to perform regression with the negative logarithmic (cross-entropy) loss. \n",
    "\n",
    "Regression with negative logarithmic loss considers the following estimator and prediciton: given $\\{x_t,y_t\\}_{t=1}^T$ compute:\n",
    "\n",
    "$$\n",
    "\\hat\\theta_T := \\arg\\max_{\\theta \\in \\mathbb{R}^d} \\mathcal{L}(\\{x_t,y_t\\}_{t=1}^T;\\theta) = \\arg\\max_{\\theta \\in \\mathbb{R}^d}  \\sum_{t=1}^T y_t \\log(p(x_t^\\top \\theta)) + (1-y_t)\\log(1-p(x_t^\\top \\theta))\n",
    "$$\n",
    "and set $\\hat y_T(x) := p(x^\\top \\hat\\theta_T)$. The estimaotr and the prediciton cannot be solved in closed form, however the loss function defined above is concave in its argument. Therefore approximate solvers like Newtown's method or Gradient Descent, should be sufficient for finding the $\\theta$ that minimizes the negative logarithmic loss. Taking the first derivative of the loss $\\mathcal{L}$ we get:2*\n",
    "\n",
    "$$\n",
    "\\frac{\\partial}{\\partial \\theta}  \\mathcal{L}(\\{x_t,y_t\\}_{t=1}^T;\\theta) = g_T(\\theta) :=  \\sum_{t=1}^T (2 \\cdot y_t - \\tanh(x_t^\\top \\theta) - 1)x_t.\n",
    "$$\n",
    "\n",
    "Taking the second derivative of $\\mathcal{L}$ gives:\n",
    "\n",
    "$$\n",
    "\\frac{\\partial^2}{\\partial \\theta^2}  \\mathcal{L}(\\{x_t,y_t\\}_{t=1}^T;\\theta)= H_T(\\theta) :=  \\sum_{t=1}^T -\\frac{1}{2\\cdot\\cosh(x_t^\\top\\theta)} x_t x_t^\\top.\n",
    "$$\n",
    "\n",
    "Thus we can solve:\n",
    "\n",
    "$$\n",
    "\\hat\\theta_T := \\arg\\min_{\\theta \\in \\mathbb{R}^d} - \\mathcal{L}(\\{x_t,y_t\\}_{t=1}^T;\\theta)\n",
    "$$\n",
    "\n",
    "by applying Newton's method for $k=1,2,...,n$, i.e.\n",
    "\n",
    "$$\n",
    "\\theta_{k+1} = \\theta_k - \\left(H_T^{-1}(\\theta_k)\\right)^\\top g_t(\\theta_k).\n",
    "$$\n",
    "\n",
    "where $\\theta_0$ is initialized approprioately, i.e. $\\theta_0 \\sim \\mathcal{N}(0,I)$. Setting $\\hat\\theta_T = \\theta_n$ gives us our estimator and letting $\\hat y_T(x) = p(x^\\top \\hat\\theta_T)$ gives us our predictor. "
   ]
  },
  {
   "cell_type": "code",
   "execution_count": 2,
   "id": "a5337794-edde-42a5-aa65-bbd46f2ce180",
   "metadata": {
    "tags": []
   },
   "outputs": [],
   "source": [
    "d = 15\n",
    "num_features = 50\n",
    "theta_star = np.random.uniform(low=0.5,high=2.0,size=d) \n",
    "theta_star[-1] = 10\n",
    "theta_star = np.load('theta_star.npy')"
   ]
  },
  {
   "cell_type": "code",
   "execution_count": 3,
   "id": "798f87db-2ba0-4d13-8b6e-852ba7889312",
   "metadata": {
    "tags": []
   },
   "outputs": [],
   "source": [
    "def get_data(num_samples):\n",
    "    features = np.zeros((num_samples,d))\n",
    "    tar = np.zeros(num_samples)\n",
    "    reg = Sigmoid_Regression(features[:d],tar[:d],d,50,theta_star)\n",
    "    X = np.random.uniform(low=-0.2,high=1.0,size=(num_features,d)) \n",
    "    for i in (range(num_samples)):\n",
    "        j = np.random.choice(num_features)\n",
    "        feature = X[j]\n",
    "        mean = reg.p(np.inner(X[j],theta_star))\n",
    "        obs = np.random.binomial(1,p=mean) \n",
    "        features[i] = feature\n",
    "        tar[i] = obs\n",
    "    return features,tar"
   ]
  },
  {
   "cell_type": "code",
   "execution_count": 4,
   "id": "302613b3-c8df-48e7-b635-55dcc8aa9fa3",
   "metadata": {
    "tags": []
   },
   "outputs": [
    {
     "data": {
      "application/vnd.jupyter.widget-view+json": {
       "model_id": "10e0ed248d554bd6b85c3efb08376573",
       "version_major": 2,
       "version_minor": 0
      },
      "text/plain": [
       "  0%|          | 0/5 [00:00<?, ?it/s]"
      ]
     },
     "metadata": {},
     "output_type": "display_data"
    },
    {
     "data": {
      "application/vnd.jupyter.widget-view+json": {
       "model_id": "91b6b1aa85ef425eba59e97459738068",
       "version_major": 2,
       "version_minor": 0
      },
      "text/plain": [
       "  0%|          | 0/5 [00:00<?, ?it/s]"
      ]
     },
     "metadata": {},
     "output_type": "display_data"
    },
    {
     "data": {
      "application/vnd.jupyter.widget-view+json": {
       "model_id": "493de60f8c00443b8f7f3efee304e8ad",
       "version_major": 2,
       "version_minor": 0
      },
      "text/plain": [
       "  0%|          | 0/5 [00:00<?, ?it/s]"
      ]
     },
     "metadata": {},
     "output_type": "display_data"
    },
    {
     "data": {
      "application/vnd.jupyter.widget-view+json": {
       "model_id": "dedb741f1c584607b5becbdaaae95cac",
       "version_major": 2,
       "version_minor": 0
      },
      "text/plain": [
       "  0%|          | 0/5 [00:00<?, ?it/s]"
      ]
     },
     "metadata": {},
     "output_type": "display_data"
    },
    {
     "data": {
      "application/vnd.jupyter.widget-view+json": {
       "model_id": "600b5f163e0742b69a4d5e30eea4635f",
       "version_major": 2,
       "version_minor": 0
      },
      "text/plain": [
       "  0%|          | 0/5 [00:00<?, ?it/s]"
      ]
     },
     "metadata": {},
     "output_type": "display_data"
    }
   ],
   "source": [
    "num_eval = 20000\n",
    "trials = 1\n",
    "runs = 5\n",
    "data = [10000,20000,50000,100000,250000]\n",
    "n = len(data)\n",
    "loss_opt_vec = np.zeros(n)\n",
    "loss_log_vec = np.zeros(n)\n",
    "loss_ls_vec = np.zeros(n)\n",
    "k = 0\n",
    "#idx = np.arange(num_samples)\n",
    "#random.shuffle(idx)\n",
    "\n",
    "for dat in data:\n",
    "    num_data = int(dat)\n",
    "    for l in tqdm(range(runs)):\n",
    "        num_samples = 2 * num_data\n",
    "        idx = np.arange(num_samples)\n",
    "        random.shuffle(idx)\n",
    "        train_idx = idx[:num_data]\n",
    "        features,tar = get_data(num_samples)\n",
    "        reg = Sigmoid_Regression(features[train_idx],tar[train_idx],d,50000,theta_star)\n",
    "        theta_log = reg.logistic_regression()\n",
    "        reg.solve_LS()\n",
    "        for j in (range(trials)):\n",
    "            loss_opt=0\n",
    "            loss_log=0\n",
    "            loss_ls=0\n",
    "            for i in (range(num_eval)):\n",
    "                \n",
    "                X = np.random.uniform(low=-4.5,high=4.5,size = (num_features, d))\n",
    "                X[0,-1] = -0.5\n",
    "                \n",
    "                arm_opt = np.argmin(reg.p(np.dot(X,theta_star)))\n",
    "                L = np.random.binomial(1,p=reg.p(np.inner(X[arm_opt],theta_star)))\n",
    "                loss_opt += L\n",
    "    \n",
    "                arm_log = np.argmin(reg.p(np.dot(X,theta_log.T)))\n",
    "                L = np.random.binomial(1,p=reg.p(np.inner(X[arm_log],theta_star)))\n",
    "                loss_log += L\n",
    "    \n",
    "                arm_ls = np.argmin(reg.p(np.dot(X,reg.theta_ls)))\n",
    "                L = np.random.binomial(1,p=reg.p(np.inner(X[arm_ls],theta_star)))\n",
    "                loss_ls += L\n",
    "                \n",
    "            loss_opt_vec[k] += loss_opt\n",
    "            loss_log_vec[k] += loss_log\n",
    "            loss_ls_vec[k] += loss_ls\n",
    "    k+=1"
   ]
  },
  {
   "cell_type": "code",
   "execution_count": 5,
   "id": "11bca0c0-b2c7-4182-b6fb-e7e800dcdb48",
   "metadata": {
    "tags": []
   },
   "outputs": [
    {
     "data": {
      "text/plain": [
       "array([0., 0., 0., 0., 0.])"
      ]
     },
     "execution_count": 5,
     "metadata": {},
     "output_type": "execute_result"
    }
   ],
   "source": [
    "loss_opt_vec/trials"
   ]
  },
  {
   "cell_type": "code",
   "execution_count": 6,
   "id": "08c3e15b-12dc-4918-8a35-5f0a29acf4b3",
   "metadata": {
    "tags": []
   },
   "outputs": [
    {
     "data": {
      "text/plain": [
       "array([1.0862e+04, 1.5194e+04, 3.6070e+03, 3.0000e+00, 0.0000e+00])"
      ]
     },
     "execution_count": 6,
     "metadata": {},
     "output_type": "execute_result"
    }
   ],
   "source": [
    "loss_log_vec/trials"
   ]
  },
  {
   "cell_type": "code",
   "execution_count": 7,
   "id": "dc282900-d73d-4183-a8c0-55c325cb2664",
   "metadata": {
    "tags": []
   },
   "outputs": [
    {
     "data": {
      "text/plain": [
       "array([4.741e+03, 3.399e+03, 5.350e+02, 2.880e+03, 3.000e+00])"
      ]
     },
     "execution_count": 7,
     "metadata": {},
     "output_type": "execute_result"
    }
   ],
   "source": [
    "loss_ls_vec/trials"
   ]
  },
  {
   "cell_type": "code",
   "execution_count": 8,
   "id": "d898c9ec-77df-413a-9ad8-a0c9712c7296",
   "metadata": {
    "tags": []
   },
   "outputs": [
    {
     "data": {
      "image/png": "[encoded data removed]",
      "text/plain": [
       "<Figure size 640x480 with 1 Axes>"
      ]
     },
     "metadata": {},
     "output_type": "display_data"
    }
   ],
   "source": [
    "plt.loglog(data, loss_log_vec / (num_eval * trials * runs),label = 'log')\n",
    "\n",
    "plt.loglog(data, loss_ls_vec / (num_eval * trials * runs),label = 'sq')\n",
    "plt.loglog(data, 1 / np.array(data),label = '1/n')\n",
    "plt.loglog(data, 1 / np.sqrt(np.array(data)), label = '1/sqrt(n)')\n",
    "plt.xlabel('size of training set')\n",
    "plt.ylabel('V($\\pi$)')\n",
    "plt.title('Value vs Size of Training Set')\n",
    "plt.legend()\n",
    "#plt.savefig('plot.pdf')\n",
    "plt.show()"
   ]
  },
  {
   "cell_type": "code",
   "execution_count": 9,
   "id": "2fff092a-b26b-44c5-b7f9-bae78889edf2",
   "metadata": {
    "tags": []
   },
   "outputs": [],
   "source": [
    "x = np.arange(10)\n",
    "random.shuffle( x )"
   ]
  },
  {
   "cell_type": "code",
   "execution_count": 10,
   "id": "75ae5293-d670-49ac-9903-8a03d6330039",
   "metadata": {
    "tags": []
   },
   "outputs": [
    {
     "data": {
      "text/plain": [
       "array([5.42937119e-01, 7.59472158e-01, 1.80295911e-01, 1.49955013e-04,\n",
       "       0.00000000e+00])"
      ]
     },
     "execution_count": 10,
     "metadata": {},
     "output_type": "execute_result"
    }
   ],
   "source": [
    "loss_log_vec / ((trials + runs) + num_eval)"
   ]
  },
  {
   "cell_type": "code",
   "execution_count": null,
   "id": "c963a1bb-7182-4d01-a3b9-edf4dd244490",
   "metadata": {},
   "outputs": [],
   "source": []
  }
 ],
 "metadata": {
  "kernelspec": {
   "display_name": "Python 3 (ipykernel)",
   "language": "python",
   "name": "python3"
  },
  "language_info": {
   "codemirror_mode": {
    "name": "ipython",
    "version": 3
   },
   "file_extension": ".py",
   "mimetype": "text/x-python",
   "name": "python",
   "nbconvert_exporter": "python",
   "pygments_lexer": "ipython3",
   "version": "3.9.1"
  },
  "nflx": {
   "sharing": {
    "created_at": "2023-08-26T03:11:28.333Z",
    "is_private": true
   }
  }
 },
 "nbformat": 4,
 "nbformat_minor": 5
}
