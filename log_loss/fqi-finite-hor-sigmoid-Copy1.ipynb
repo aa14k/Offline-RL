{
 "cells": [
  {
   "cell_type": "code",
   "execution_count": 1,
   "id": "e5d70ef0-9d77-493b-a0c9-fc9268a34732",
   "metadata": {
    "tags": []
   },
   "outputs": [],
   "source": [
    "from environments import MountainCar\n",
    "from features import LinearFeatureMap\n",
    "from classifiers import Sigmoid_Regression\n",
    "import numpy as np\n",
    "from tqdm.notebook import tqdm\n",
    "from sklearn.linear_model import LogisticRegression\n",
    "import itertools as iters\n",
    "from joblib import Parallel, delayed"
   ]
  },
  {
   "cell_type": "code",
   "execution_count": 2,
   "id": "66a425a2-2c74-4aca-9b23-460f32032be2",
   "metadata": {
    "tags": []
   },
   "outputs": [],
   "source": [
    "#tuples = np.load('mc_data.npy',allow_pickle = True)"
   ]
  },
  {
   "cell_type": "code",
   "execution_count": 3,
   "id": "51f91b26-af4b-45ee-846b-561f1e9e1c70",
   "metadata": {
    "tags": []
   },
   "outputs": [
    {
     "data": {
      "application/vnd.jupyter.widget-view+json": {
       "model_id": "eefe5d98c9854f648cb104aac28207c1",
       "version_major": 2,
       "version_minor": 0
      },
      "text/plain": [
       "  0%|          | 0/150 [00:00<?, ?it/s]"
      ]
     },
     "metadata": {},
     "output_type": "display_data"
    }
   ],
   "source": [
    "H = 150\n",
    "num_trials = 100000\n",
    "env = MountainCar(H)\n",
    "\n",
    "s = np.zeros((2,num_trials))\n",
    "s[0,:] = np.random.uniform(low = -1.2,high = 0.1,size = num_trials)\n",
    "env.reset()\n",
    "tuples = []\n",
    "\n",
    "for h in tqdm(range(H)):\n",
    "    a = np.random.choice([-1,0,1],size=num_trials)\n",
    "    cost, s_ = env.step_broadcast(s, a, num_trials)\n",
    "    tuples.append([s.T,a+1,cost,np.array(s_).T,h])\n",
    "    s = s_"
   ]
  },
  {
   "cell_type": "code",
   "execution_count": 11,
   "id": "694ad64e-2585-43e3-b2e5-542244ad0754",
   "metadata": {
    "tags": []
   },
   "outputs": [],
   "source": [
    "class FittedQIteration(object):\n",
    "    def __init__(self,phi,features,data,horizon,num_trials,k):\n",
    "        self.phi = phi\n",
    "        self.features = features\n",
    "        self.data = data\n",
    "        self.H = horizon\n",
    "        self.n = num_trials\n",
    "        self.k = k\n",
    "        self.d = len(self.phi.order_list)\n",
    "        self.theta_ = np.zeros((self.H, 3*self.d)) \n",
    "        self.theta = np.zeros((self.H, 3*self.d)) \n",
    "        #self.A = np.zeros((self.H, 3, self.n, self.d))\n",
    "        self.A = {}\n",
    "        self.get_A()\n",
    "        #self.get_targets()\n",
    "        \n",
    "    \n",
    "    def get_phi(self,state):\n",
    "        if self.features == 'poly':\n",
    "            return self.phi.polynomial_basis(state)\n",
    "        elif self.features == 'fourier':\n",
    "            phi = self.phi.fourier_basis(state)\n",
    "            return phi\n",
    "\n",
    "    def sigmoid(self,x):\n",
    "        x[x < -36] = -36\n",
    "        x[x > 36] = 36\n",
    "        return 1 / (1 + np.exp(-x))\n",
    "\n",
    "\n",
    "    def get_psi(self,phi,a):\n",
    "        v = len(phi)\n",
    "        psi = np.zeros((v,3*self.d))\n",
    "        lower = 3 * a\n",
    "        psi[lower : lower + self.d,:] = phi\n",
    "        return psi\n",
    "        \n",
    "        \n",
    "    \n",
    "    def get_A(self):\n",
    "        print('Getting A')\n",
    "        data = self.data.copy()\n",
    "        for h in tqdm(range(self.H)):\n",
    "            s,a = data[h][0], data[h][1]\n",
    "            a0 = np.where(a==0)\n",
    "            a1 = np.where(a==1)\n",
    "            a2 = np.where(a==2)\n",
    "            self.x = self.get_phi(s)\n",
    "            self.psi = self.get_psi(self.x,a1)\n",
    "            self.A[h,0] = self.x[a0]\n",
    "            self.A[h,1] = self.x[a1]\n",
    "            self.A[h,2] = self.x[a2]\n",
    "    \n",
    "    \n",
    "    def get_targets(self):\n",
    "        data = self.data.copy()\n",
    "        self.tar = {}\n",
    "        for h in (range(self.H - 1, -1, -1)):\n",
    "            a, c, s_ = data[h][1], data[h][2], data[h][3]\n",
    "            a0 = np.where(a==0)\n",
    "            a1 = np.where(a==1)\n",
    "            a2 = np.where(a==2)\n",
    "            if h != self.H - 1:\n",
    "                phi_ = self.get_phi(s_)\n",
    "                q = np.zeros((len(a),3))\n",
    "                inner0 = self.sigmoid(np.dot(phi_,self.theta[h+1,0]))\n",
    "                inner1 = self.sigmoid(np.dot(phi_,self.theta[h+1,1]))\n",
    "                inner2 = self.sigmoid(np.dot(phi_,self.theta[h+1,2]))\n",
    "                v = np.minimum(inner0,inner1,inner2)\n",
    "                self.tar[h,0] = c[a0] + v[a0]\n",
    "                self.tar[h,1] = c[a1] + v[a1]\n",
    "                self.tar[h,2] = c[a2] + v[a2]\n",
    "            else:\n",
    "                self.tar[h,0] = c[a0] \n",
    "                self.tar[h,1] = c[a1] \n",
    "                self.tar[h,2] = c[a2] \n",
    "            '''\n",
    "            for i in range(len(a)):\n",
    "                if h != self.H - 1:\n",
    "                    phi_ = self.get_phi(s_[:,i])\n",
    "                    q = np.zeros(3)\n",
    "                    for a_ in range(3):\n",
    "                        inner = np.inner(phi_, self.theta_[h+1,a_])\n",
    "                        q[a_] = 1 / (1 + np.exp(-inner))\n",
    "                    v = np.min(q)\n",
    "                    self.tar[h,int(a[i]),i] = np.random.binomial(1,p=max(0,min((c[i] + v),1))) \n",
    "                else:\n",
    "                    self.tar[h,int(a[i]),i] = c[i]\n",
    "        '''\n",
    "    def solve_LS(self):\n",
    "        #Solve nonlinear least squares using scipy black-box (since sq loss is non-convex wrt to theta)\n",
    "        #A = np.zeros((self.d,self.d))\n",
    "        #b = np.zeros(self.d)\n",
    "        #for i in range(self.n):\n",
    "        #    x, y = self.features[i], self.obs[i]\n",
    "        #    A = A + np.outer(x, x)\n",
    "        #    b = b + y * x\n",
    "        #self.theta_ols = np.linalg.solve(A,b)\n",
    "        self.sol = least_squares(self.func, self.theta_ls, args=(self.feature,self.obs))\n",
    "\n",
    "\n",
    "    def minimize_sq(self):\n",
    "        for h in tqdm(range(self.H)):\n",
    "            for a in range(3):\n",
    "                self.feature = self.A[h,a]\n",
    "                self.obs = self.tar[h,a]\n",
    "                self.solve_LS()\n",
    "                self.theta[h,a] = self.sol.x\n",
    "                #self.theta[h,a] = self.reg.theta_ls\n",
    "\n",
    "    \n",
    "    def minimize_log(self):\n",
    "        for h in tqdm(range(self.H-1,-1,-1)):\n",
    "            for a in range(3):\n",
    "                self.clf = LogisticRegression(tol = pow(10,-8), random_state = 0).fit(self.A[h,a], self.tar[h,a])\n",
    "                self.theta[h,a] = np.array(self.clf.coef_)\n",
    "\n",
    "    def minimize_sq(self):\n",
    "        for h in tqdm(range(self.H)):\n",
    "            for a in range(3):\n",
    "                feature = self.A[h,a]\n",
    "                obs = self.tar[h,a]\n",
    "                self.reg = Sigmoid_Regression(feature, obs, self.d, np.zeros(self.d), lr_tol = pow(10,-8))\n",
    "                self.reg.solve_LS()\n",
    "                #print(self.reg.theta_ls)\n",
    "                self.theta[h,a] = self.reg.theta_ls\n",
    "                \n",
    "            \n",
    "    \n",
    "    def update_Q(self):\n",
    "        self.get_targets()\n",
    "        self.minimize_sq()\n",
    "        self.theta_ = self.theta\n",
    "        \n",
    "    \n",
    "    \n",
    "    def run(self):\n",
    "        #self.get_A()\n",
    "        print('Running')\n",
    "        for t in tqdm(range(self.k)):\n",
    "            self.update_Q()\n",
    "        "
   ]
  },
  {
   "cell_type": "code",
   "execution_count": 12,
   "id": "223addf7-b816-45e0-a60a-e6e3250916e6",
   "metadata": {},
   "outputs": [
    {
     "name": "stdout",
     "output_type": "stream",
     "text": [
      "Getting A\n"
     ]
    },
    {
     "data": {
      "application/vnd.jupyter.widget-view+json": {
       "model_id": "90e62cd127d54e9082fe075bafdafe74",
       "version_major": 2,
       "version_minor": 0
      },
      "text/plain": [
       "  0%|          | 0/150 [00:00<?, ?it/s]"
      ]
     },
     "metadata": {},
     "output_type": "display_data"
    },
    {
     "ename": "TypeError",
     "evalue": "can only concatenate tuple (not \"int\") to tuple",
     "output_type": "error",
     "traceback": [
      "\u001b[0;31m---------------------------------------------------------------------------\u001b[0m",
      "\u001b[0;31mTypeError\u001b[0m                                 Traceback (most recent call last)",
      "Cell \u001b[0;32mIn[12], line 6\u001b[0m\n\u001b[1;32m      4\u001b[0m phi\u001b[38;5;241m.\u001b[39minit_state_normalizers(np\u001b[38;5;241m.\u001b[39marray([\u001b[38;5;241m0.6\u001b[39m,\u001b[38;5;241m0.07\u001b[39m]),np\u001b[38;5;241m.\u001b[39marray([\u001b[38;5;241m-\u001b[39m\u001b[38;5;241m1.2\u001b[39m,\u001b[38;5;241m-\u001b[39m\u001b[38;5;241m0.07\u001b[39m]))\n\u001b[1;32m      5\u001b[0m features \u001b[38;5;241m=\u001b[39m \u001b[38;5;124m'\u001b[39m\u001b[38;5;124mfourier\u001b[39m\u001b[38;5;124m'\u001b[39m\n\u001b[0;32m----> 6\u001b[0m agent \u001b[38;5;241m=\u001b[39m \u001b[43mFittedQIteration\u001b[49m\u001b[43m(\u001b[49m\u001b[43mphi\u001b[49m\u001b[43m,\u001b[49m\u001b[43mfeatures\u001b[49m\u001b[43m,\u001b[49m\u001b[43mtuples\u001b[49m\u001b[43m,\u001b[49m\u001b[43mH\u001b[49m\u001b[43m,\u001b[49m\u001b[43mnum_trials\u001b[49m\u001b[43m,\u001b[49m\u001b[38;5;241;43m160\u001b[39;49m\u001b[43m)\u001b[49m\n",
      "Cell \u001b[0;32mIn[11], line 14\u001b[0m, in \u001b[0;36mFittedQIteration.__init__\u001b[0;34m(self, phi, features, data, horizon, num_trials, k)\u001b[0m\n\u001b[1;32m     12\u001b[0m \u001b[38;5;66;03m#self.A = np.zeros((self.H, 3, self.n, self.d))\u001b[39;00m\n\u001b[1;32m     13\u001b[0m \u001b[38;5;28mself\u001b[39m\u001b[38;5;241m.\u001b[39mA \u001b[38;5;241m=\u001b[39m {}\n\u001b[0;32m---> 14\u001b[0m \u001b[38;5;28;43mself\u001b[39;49m\u001b[38;5;241;43m.\u001b[39;49m\u001b[43mget_A\u001b[49m\u001b[43m(\u001b[49m\u001b[43m)\u001b[49m\n",
      "Cell \u001b[0;32mIn[11], line 49\u001b[0m, in \u001b[0;36mFittedQIteration.get_A\u001b[0;34m(self)\u001b[0m\n\u001b[1;32m     47\u001b[0m a2 \u001b[38;5;241m=\u001b[39m np\u001b[38;5;241m.\u001b[39mwhere(a\u001b[38;5;241m==\u001b[39m\u001b[38;5;241m2\u001b[39m)\n\u001b[1;32m     48\u001b[0m \u001b[38;5;28mself\u001b[39m\u001b[38;5;241m.\u001b[39mx \u001b[38;5;241m=\u001b[39m \u001b[38;5;28mself\u001b[39m\u001b[38;5;241m.\u001b[39mget_phi(s)\n\u001b[0;32m---> 49\u001b[0m \u001b[38;5;28mself\u001b[39m\u001b[38;5;241m.\u001b[39mpsi \u001b[38;5;241m=\u001b[39m \u001b[38;5;28;43mself\u001b[39;49m\u001b[38;5;241;43m.\u001b[39;49m\u001b[43mget_psi\u001b[49m\u001b[43m(\u001b[49m\u001b[38;5;28;43mself\u001b[39;49m\u001b[38;5;241;43m.\u001b[39;49m\u001b[43mx\u001b[49m\u001b[43m,\u001b[49m\u001b[43ma1\u001b[49m\u001b[43m)\u001b[49m\n\u001b[1;32m     50\u001b[0m \u001b[38;5;28mself\u001b[39m\u001b[38;5;241m.\u001b[39mA[h,\u001b[38;5;241m0\u001b[39m] \u001b[38;5;241m=\u001b[39m \u001b[38;5;28mself\u001b[39m\u001b[38;5;241m.\u001b[39mx[a0]\n\u001b[1;32m     51\u001b[0m \u001b[38;5;28mself\u001b[39m\u001b[38;5;241m.\u001b[39mA[h,\u001b[38;5;241m1\u001b[39m] \u001b[38;5;241m=\u001b[39m \u001b[38;5;28mself\u001b[39m\u001b[38;5;241m.\u001b[39mx[a1]\n",
      "Cell \u001b[0;32mIn[11], line 35\u001b[0m, in \u001b[0;36mFittedQIteration.get_psi\u001b[0;34m(self, phi, a)\u001b[0m\n\u001b[1;32m     33\u001b[0m psi \u001b[38;5;241m=\u001b[39m np\u001b[38;5;241m.\u001b[39mzeros((v,\u001b[38;5;241m3\u001b[39m\u001b[38;5;241m*\u001b[39m\u001b[38;5;28mself\u001b[39m\u001b[38;5;241m.\u001b[39md))\n\u001b[1;32m     34\u001b[0m lower \u001b[38;5;241m=\u001b[39m \u001b[38;5;241m3\u001b[39m \u001b[38;5;241m*\u001b[39m a\n\u001b[0;32m---> 35\u001b[0m psi[lower : \u001b[43mlower\u001b[49m\u001b[43m \u001b[49m\u001b[38;5;241;43m+\u001b[39;49m\u001b[43m \u001b[49m\u001b[38;5;28;43mself\u001b[39;49m\u001b[38;5;241;43m.\u001b[39;49m\u001b[43md\u001b[49m,:] \u001b[38;5;241m=\u001b[39m phi\n\u001b[1;32m     36\u001b[0m \u001b[38;5;28;01mreturn\u001b[39;00m psi\n",
      "\u001b[0;31mTypeError\u001b[0m: can only concatenate tuple (not \"int\") to tuple"
     ]
    }
   ],
   "source": [
    "phi = LinearFeatureMap()\n",
    "#phi.init_poly_features(2,1)\n",
    "phi.init_fourier_features(2,2)\n",
    "phi.init_state_normalizers(np.array([0.6,0.07]),np.array([-1.2,-0.07]))\n",
    "features = 'fourier'\n",
    "agent = FittedQIteration(phi,features,tuples,H,num_trials,160)"
   ]
  },
  {
   "cell_type": "code",
   "execution_count": null,
   "id": "42db4c70-682a-40e8-af17-db9518528da6",
   "metadata": {},
   "outputs": [
    {
     "name": "stdout",
     "output_type": "stream",
     "text": [
      "Running\n"
     ]
    },
    {
     "data": {
      "application/vnd.jupyter.widget-view+json": {
       "model_id": "98371c41e74c4f6a8debcb855e48ceb4",
       "version_major": 2,
       "version_minor": 0
      },
      "text/plain": [
       "  0%|          | 0/160 [00:00<?, ?it/s]"
      ]
     },
     "metadata": {},
     "output_type": "display_data"
    },
    {
     "data": {
      "application/vnd.jupyter.widget-view+json": {
       "model_id": "65ef6dc07a394df3b5a640d786718917",
       "version_major": 2,
       "version_minor": 0
      },
      "text/plain": [
       "  0%|          | 0/150 [00:00<?, ?it/s]"
      ]
     },
     "metadata": {},
     "output_type": "display_data"
    },
    {
     "data": {
      "application/vnd.jupyter.widget-view+json": {
       "model_id": "13574a6b308d43489b5f192c9e3bcd96",
       "version_major": 2,
       "version_minor": 0
      },
      "text/plain": [
       "  0%|          | 0/150 [00:00<?, ?it/s]"
      ]
     },
     "metadata": {},
     "output_type": "display_data"
    },
    {
     "data": {
      "application/vnd.jupyter.widget-view+json": {
       "model_id": "79c772b4942e42988eef65896e89a438",
       "version_major": 2,
       "version_minor": 0
      },
      "text/plain": [
       "  0%|          | 0/150 [00:00<?, ?it/s]"
      ]
     },
     "metadata": {},
     "output_type": "display_data"
    },
    {
     "data": {
      "application/vnd.jupyter.widget-view+json": {
       "model_id": "15ea714c42094b4aac2883d1d0cfc927",
       "version_major": 2,
       "version_minor": 0
      },
      "text/plain": [
       "  0%|          | 0/150 [00:00<?, ?it/s]"
      ]
     },
     "metadata": {},
     "output_type": "display_data"
    },
    {
     "data": {
      "application/vnd.jupyter.widget-view+json": {
       "model_id": "28bd0576df304f168872085d99a648d5",
       "version_major": 2,
       "version_minor": 0
      },
      "text/plain": [
       "  0%|          | 0/150 [00:00<?, ?it/s]"
      ]
     },
     "metadata": {},
     "output_type": "display_data"
    },
    {
     "data": {
      "application/vnd.jupyter.widget-view+json": {
       "model_id": "746b828c42e14addbd709c59b0a29eb2",
       "version_major": 2,
       "version_minor": 0
      },
      "text/plain": [
       "  0%|          | 0/150 [00:00<?, ?it/s]"
      ]
     },
     "metadata": {},
     "output_type": "display_data"
    },
    {
     "data": {
      "application/vnd.jupyter.widget-view+json": {
       "model_id": "1269fd980f8a48ea9dbc4b3fa571ce1b",
       "version_major": 2,
       "version_minor": 0
      },
      "text/plain": [
       "  0%|          | 0/150 [00:00<?, ?it/s]"
      ]
     },
     "metadata": {},
     "output_type": "display_data"
    },
    {
     "data": {
      "application/vnd.jupyter.widget-view+json": {
       "model_id": "fbeb5ffe9b82445da050cd4f98115ac6",
       "version_major": 2,
       "version_minor": 0
      },
      "text/plain": [
       "  0%|          | 0/150 [00:00<?, ?it/s]"
      ]
     },
     "metadata": {},
     "output_type": "display_data"
    },
    {
     "data": {
      "application/vnd.jupyter.widget-view+json": {
       "model_id": "5900be3fbaee4af2b805d6fe7187ba16",
       "version_major": 2,
       "version_minor": 0
      },
      "text/plain": [
       "  0%|          | 0/150 [00:00<?, ?it/s]"
      ]
     },
     "metadata": {},
     "output_type": "display_data"
    },
    {
     "data": {
      "application/vnd.jupyter.widget-view+json": {
       "model_id": "e256e58f47d6497b9d51dbec3611a7ec",
       "version_major": 2,
       "version_minor": 0
      },
      "text/plain": [
       "  0%|          | 0/150 [00:00<?, ?it/s]"
      ]
     },
     "metadata": {},
     "output_type": "display_data"
    },
    {
     "data": {
      "application/vnd.jupyter.widget-view+json": {
       "model_id": "4519bc8690a84625bbb9991a0d8529d7",
       "version_major": 2,
       "version_minor": 0
      },
      "text/plain": [
       "  0%|          | 0/150 [00:00<?, ?it/s]"
      ]
     },
     "metadata": {},
     "output_type": "display_data"
    },
    {
     "data": {
      "application/vnd.jupyter.widget-view+json": {
       "model_id": "e96ee52d3acf49dc93e69d5e145d5745",
       "version_major": 2,
       "version_minor": 0
      },
      "text/plain": [
       "  0%|          | 0/150 [00:00<?, ?it/s]"
      ]
     },
     "metadata": {},
     "output_type": "display_data"
    },
    {
     "data": {
      "application/vnd.jupyter.widget-view+json": {
       "model_id": "92d557d776e94f3893b00ed24053e9a3",
       "version_major": 2,
       "version_minor": 0
      },
      "text/plain": [
       "  0%|          | 0/150 [00:00<?, ?it/s]"
      ]
     },
     "metadata": {},
     "output_type": "display_data"
    },
    {
     "data": {
      "application/vnd.jupyter.widget-view+json": {
       "model_id": "1ff3d1110bda4e2fbf56aad08e64e941",
       "version_major": 2,
       "version_minor": 0
      },
      "text/plain": [
       "  0%|          | 0/150 [00:00<?, ?it/s]"
      ]
     },
     "metadata": {},
     "output_type": "display_data"
    },
    {
     "data": {
      "application/vnd.jupyter.widget-view+json": {
       "model_id": "8911b836a0404fd49b8590239d5fbf41",
       "version_major": 2,
       "version_minor": 0
      },
      "text/plain": [
       "  0%|          | 0/150 [00:00<?, ?it/s]"
      ]
     },
     "metadata": {},
     "output_type": "display_data"
    },
    {
     "data": {
      "application/vnd.jupyter.widget-view+json": {
       "model_id": "37b92fe772c34ed59256a16274608f7c",
       "version_major": 2,
       "version_minor": 0
      },
      "text/plain": [
       "  0%|          | 0/150 [00:00<?, ?it/s]"
      ]
     },
     "metadata": {},
     "output_type": "display_data"
    },
    {
     "data": {
      "application/vnd.jupyter.widget-view+json": {
       "model_id": "9316a55cc07541f0be222b352e7e4a16",
       "version_major": 2,
       "version_minor": 0
      },
      "text/plain": [
       "  0%|          | 0/150 [00:00<?, ?it/s]"
      ]
     },
     "metadata": {},
     "output_type": "display_data"
    },
    {
     "data": {
      "application/vnd.jupyter.widget-view+json": {
       "model_id": "2e80b5ac7b9f47f38347287a60b19057",
       "version_major": 2,
       "version_minor": 0
      },
      "text/plain": [
       "  0%|          | 0/150 [00:00<?, ?it/s]"
      ]
     },
     "metadata": {},
     "output_type": "display_data"
    },
    {
     "data": {
      "application/vnd.jupyter.widget-view+json": {
       "model_id": "63a1c7dc045a46c9bbf072a976dd4156",
       "version_major": 2,
       "version_minor": 0
      },
      "text/plain": [
       "  0%|          | 0/150 [00:00<?, ?it/s]"
      ]
     },
     "metadata": {},
     "output_type": "display_data"
    },
    {
     "data": {
      "application/vnd.jupyter.widget-view+json": {
       "model_id": "5af5522051384670a01bb35278f7d95c",
       "version_major": 2,
       "version_minor": 0
      },
      "text/plain": [
       "  0%|          | 0/150 [00:00<?, ?it/s]"
      ]
     },
     "metadata": {},
     "output_type": "display_data"
    },
    {
     "data": {
      "application/vnd.jupyter.widget-view+json": {
       "model_id": "d9a680483d9d469694e8e00866564c49",
       "version_major": 2,
       "version_minor": 0
      },
      "text/plain": [
       "  0%|          | 0/150 [00:00<?, ?it/s]"
      ]
     },
     "metadata": {},
     "output_type": "display_data"
    },
    {
     "data": {
      "application/vnd.jupyter.widget-view+json": {
       "model_id": "e019704fd999410594ccc4a118e6ff20",
       "version_major": 2,
       "version_minor": 0
      },
      "text/plain": [
       "  0%|          | 0/150 [00:00<?, ?it/s]"
      ]
     },
     "metadata": {},
     "output_type": "display_data"
    },
    {
     "data": {
      "application/vnd.jupyter.widget-view+json": {
       "model_id": "e0bce89b783c489a9b73febbd56a6417",
       "version_major": 2,
       "version_minor": 0
      },
      "text/plain": [
       "  0%|          | 0/150 [00:00<?, ?it/s]"
      ]
     },
     "metadata": {},
     "output_type": "display_data"
    }
   ],
   "source": [
    "agent.run()"
   ]
  },
  {
   "cell_type": "code",
   "execution_count": null,
   "id": "b5ffe91b-1d74-4cc2-be83-45ef8f60ace7",
   "metadata": {},
   "outputs": [],
   "source": []
  },
  {
   "cell_type": "code",
   "execution_count": null,
   "id": "06e349fd-7787-4595-8bf8-d2a5ed3b9990",
   "metadata": {},
   "outputs": [],
   "source": []
  }
 ],
 "metadata": {
  "kernelspec": {
   "display_name": "Python 3 (ipykernel)",
   "language": "python",
   "name": "python3"
  },
  "language_info": {
   "codemirror_mode": {
    "name": "ipython",
    "version": 3
   },
   "file_extension": ".py",
   "mimetype": "text/x-python",
   "name": "python",
   "nbconvert_exporter": "python",
   "pygments_lexer": "ipython3",
   "version": "3.9.1"
  },
  "nflx": {
   "sharing": {
    "created_at": "2023-08-22T21:26:40.555Z",
    "is_private": true
   }
  }
 },
 "nbformat": 4,
 "nbformat_minor": 5
}
