{
 "cells": [
  {
   "cell_type": "code",
   "execution_count": 31,
   "id": "e5d70ef0-9d77-493b-a0c9-fc9268a34732",
   "metadata": {
    "execution": {
     "iopub.execute_input": "2023-08-24T00:31:31.661269Z",
     "iopub.status.busy": "2023-08-24T00:31:31.660145Z",
     "iopub.status.idle": "2023-08-24T00:31:31.665740Z",
     "shell.execute_reply": "2023-08-24T00:31:31.664930Z",
     "shell.execute_reply.started": "2023-08-24T00:31:31.661229Z"
    },
    "tags": []
   },
   "outputs": [],
   "source": [
    "from environments import DeepSea\n",
    "import numpy as np\n",
    "from tqdm.notebook import tqdm\n",
    "import random\n",
    "random.seed(42)"
   ]
  },
  {
   "cell_type": "code",
   "execution_count": 25,
   "id": "51f91b26-af4b-45ee-846b-561f1e9e1c70",
   "metadata": {
    "execution": {
     "iopub.execute_input": "2023-08-24T00:27:28.801372Z",
     "iopub.status.busy": "2023-08-24T00:27:28.800883Z",
     "iopub.status.idle": "2023-08-24T00:27:29.451777Z",
     "shell.execute_reply": "2023-08-24T00:27:29.451035Z",
     "shell.execute_reply.started": "2023-08-24T00:27:28.801338Z"
    },
    "tags": []
   },
   "outputs": [
    {
     "data": {
      "application/vnd.jupyter.widget-view+json": {
       "model_id": "095fb5dac94742698187881632832b52",
       "version_major": 2,
       "version_minor": 0
      },
      "text/plain": [
       "  0%|          | 0/8000 [00:00<?, ?it/s]"
      ]
     },
     "metadata": {},
     "output_type": "display_data"
    }
   ],
   "source": [
    "H = 3\n",
    "env = DeepSea(H)\n",
    "cost = 0.0\n",
    "tuples = []\n",
    "for k in tqdm(range(int(1000*2**H))):\n",
    "    s,done = env.reset()\n",
    "    while not done:\n",
    "        a = np.random.binomial(1,0.1)\n",
    "        c,s_,done = env.step(s,a)\n",
    "        cost += c\n",
    "        tuples.append([s,a,c,s_])\n",
    "        s = s_"
   ]
  },
  {
   "cell_type": "code",
   "execution_count": 26,
   "id": "694ad64e-2585-43e3-b2e5-542244ad0754",
   "metadata": {
    "execution": {
     "iopub.execute_input": "2023-08-24T00:27:29.982880Z",
     "iopub.status.busy": "2023-08-24T00:27:29.982372Z",
     "iopub.status.idle": "2023-08-24T00:27:30.000731Z",
     "shell.execute_reply": "2023-08-24T00:27:29.999977Z",
     "shell.execute_reply.started": "2023-08-24T00:27:29.982849Z"
    },
    "tags": []
   },
   "outputs": [],
   "source": [
    "class Fitted_Q_Iteration(object):\n",
    "    def __init__(self,data,loss,iters,nState,nAction,gamma,nEnsemble):\n",
    "        self.data = data.copy()\n",
    "        self.loss = loss\n",
    "        self.iters = iters\n",
    "        self.nState = nState\n",
    "        self.nAction = nAction\n",
    "        self.gamma = gamma\n",
    "        self.nEnsemble = nEnsemble\n",
    "        self.d = nState*nAction\n",
    "        self.n = len(data)\n",
    "        self.phi = np.identity(nState*nAction)\n",
    "        self.f = np.zeros((nState,nAction))\n",
    "        self.f_ = np.zeros((nState,nAction)) \n",
    "        self.Vf = np.zeros(nState)\n",
    "        self.get_feature_idx()\n",
    "        self.Q_ensemble = np.random.uniform(size=(self.nEnsemble,nState,nAction))\n",
    "        \n",
    "    \n",
    "    def get_feature_idx(self):\n",
    "        self.tuple_to_idx = {}\n",
    "        self.idx_to_tuple = {}\n",
    "        k = 0\n",
    "        for s in range(self.nState):\n",
    "            for a in range(self.nAction):\n",
    "                self.tuple_to_idx[s,a] = k\n",
    "                self.tuple_to_idx[k] = [s,a]\n",
    "                k += 1\n",
    "        \n",
    "    \n",
    "    def get_targets(self):\n",
    "        self.tar = np.zeros( self.n )\n",
    "        data = self.data\n",
    "        for i in range(self.n):\n",
    "            c, s_ = data[i][2], data[i][3]\n",
    "            if s_ != None:\n",
    "                self.tar[i] = max(0,min(c + self.gamma * min(self.f_[s_,:]),1))\n",
    "            else:\n",
    "                self.tar[i] = c\n",
    "                \n",
    "    def find_Q_sq(self):\n",
    "        data = self.data.copy()\n",
    "        self.q_score_sq = np.zeros(self.nEnsemble)\n",
    "        #for i in range(self.nEnsemble):\n",
    "        for j in range(self.n):\n",
    "            s,a = data[j][0],data[j][1]\n",
    "            self.q_score_sq[:] += (self.Q_ensemble[:,s,a] - self.tar[j]) ** 2\n",
    "                \n",
    "                    \n",
    "                \n",
    "        best_ensemble = np.random.choice(np.flatnonzero(self.q_score_sq == self.q_score_sq.min()))\n",
    "        return best_ensemble\n",
    "    \n",
    "    \n",
    "    def find_Q_log(self):\n",
    "        data = self.data.copy()\n",
    "        self.q_score = np.zeros(self.nEnsemble)\n",
    "        #for i in range(self.nEnsemble):\n",
    "        for j in range(self.n):\n",
    "            s,a = data[j][0],data[j][1]\n",
    "            self.q_score[:] += -1.0 * (self.tar[j] * np.log(self.Q_ensemble[:,s,a]) + (1 - self.tar[j]) * np.log(1 - self.Q_ensemble[:,s,a]))\n",
    "                \n",
    "        best_ensemble = np.random.choice(np.flatnonzero(self.q_score == self.q_score.min()))\n",
    "        return best_ensemble\n",
    "                    \n",
    "                \n",
    "        best_ensemble = np.random.choice(np.flatnonzero(self.q_score == self.q_score.min()))\n",
    "        return best_ensemble\n",
    "            \n",
    "    \n",
    "    def update_Q_log(self):\n",
    "        self.get_targets()\n",
    "        best_q = self.find_Q_log()\n",
    "        self.f_ = self.Q_ensemble[best_q]\n",
    "    \n",
    "    def update_Q_sq(self):\n",
    "        self.get_targets()\n",
    "        best_q = self.find_Q_sq()\n",
    "        self.f_ = self.Q_ensemble[best_q]\n",
    "    \n",
    "    def update_Q(self):\n",
    "        if self.loss == 'log':\n",
    "            self.update_Q_log()\n",
    "        else:\n",
    "            self.update_Q_sq()\n",
    "    \n",
    "    def run(self):\n",
    "        for k in tqdm(range(self.iters)):\n",
    "            self.update_Q()\n",
    "        "
   ]
  },
  {
   "cell_type": "code",
   "execution_count": 36,
   "id": "3f06b6af-ba06-42fc-88a1-108b0f883733",
   "metadata": {
    "execution": {
     "iopub.execute_input": "2023-08-24T00:33:21.759909Z",
     "iopub.status.busy": "2023-08-24T00:33:21.758922Z",
     "iopub.status.idle": "2023-08-24T00:34:23.770456Z",
     "shell.execute_reply": "2023-08-24T00:34:23.769577Z",
     "shell.execute_reply.started": "2023-08-24T00:33:21.759867Z"
    },
    "tags": []
   },
   "outputs": [
    {
     "data": {
      "application/vnd.jupyter.widget-view+json": {
       "model_id": "b9633674cda2481086c72db8532509c6",
       "version_major": 2,
       "version_minor": 0
      },
      "text/plain": [
       "  0%|          | 0/200 [00:00<?, ?it/s]"
      ]
     },
     "metadata": {},
     "output_type": "display_data"
    },
    {
     "name": "stdout",
     "output_type": "stream",
     "text": [
      "[[0.60536612 0.76488246]\n",
      " [0.73284368 0.52049331]\n",
      " [0.87079687 0.14756819]\n",
      " [0.86698985 0.66309174]\n",
      " [0.80098791 0.81934321]\n",
      " [0.03993512 0.07689024]]\n"
     ]
    }
   ],
   "source": [
    "nState = len(env.state_to_tuple)\n",
    "agent = Fitted_Q_Iteration(tuples[:10000],'log',200,nState,2,0.99,1000)\n",
    "agent.run()\n",
    "print(agent.f_)"
   ]
  },
  {
   "cell_type": "code",
   "execution_count": 38,
   "id": "d18e1d15-723c-437a-82ae-2c3c1921b09b",
   "metadata": {
    "execution": {
     "iopub.execute_input": "2023-08-24T00:34:54.002679Z",
     "iopub.status.busy": "2023-08-24T00:34:54.001993Z",
     "iopub.status.idle": "2023-08-24T00:35:14.441648Z",
     "shell.execute_reply": "2023-08-24T00:35:14.440826Z",
     "shell.execute_reply.started": "2023-08-24T00:34:54.002640Z"
    },
    "tags": []
   },
   "outputs": [
    {
     "data": {
      "application/vnd.jupyter.widget-view+json": {
       "model_id": "f94748a38a20462d91cb21647fb2756b",
       "version_major": 2,
       "version_minor": 0
      },
      "text/plain": [
       "  0%|          | 0/200 [00:00<?, ?it/s]"
      ]
     },
     "metadata": {},
     "output_type": "display_data"
    },
    {
     "name": "stdout",
     "output_type": "stream",
     "text": [
      "[[0.11967657 0.46083258]\n",
      " [0.65699108 0.67552491]\n",
      " [0.50364398 0.68490746]\n",
      " [0.94614328 0.87869146]\n",
      " [0.70570375 0.62351095]\n",
      " [0.50199527 0.75937238]]\n"
     ]
    }
   ],
   "source": [
    "nState = len(env.state_to_tuple)\n",
    "agent = Fitted_Q_Iteration(tuples[:10000],'square',200,nState,2,0.99,1000)\n",
    "agent.run()\n",
    "print(agent.f_)"
   ]
  },
  {
   "cell_type": "code",
   "execution_count": null,
   "id": "ee575276-0320-4f75-8ad9-9a8019d00fa8",
   "metadata": {},
   "outputs": [],
   "source": []
  }
 ],
 "metadata": {
  "kernelspec": {
   "display_name": "Python 3 (ipykernel)",
   "language": "python",
   "name": "python3"
  },
  "language_info": {
   "codemirror_mode": {
    "name": "ipython",
    "version": 3
   },
   "file_extension": ".py",
   "mimetype": "text/x-python",
   "name": "python",
   "nbconvert_exporter": "python",
   "pygments_lexer": "ipython3",
   "version": "3.9.1"
  },
  "nflx": {
   "sharing": {
    "created_at": "2023-08-22T21:26:40.555Z",
    "is_private": true
   }
  }
 },
 "nbformat": 4,
 "nbformat_minor": 5
}
